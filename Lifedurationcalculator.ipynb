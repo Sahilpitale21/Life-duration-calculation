{
 "cells": [
  {
   "cell_type": "code",
   "execution_count": 4,
   "id": "cd3e53f6-a77d-4233-9ced-dbddfcdefe8d",
   "metadata": {},
   "outputs": [
    {
     "name": "stdin",
     "output_type": "stream",
     "text": [
      "Write your age?(in years) 77\n",
      "Please choose a time unit (Months, Weeks, Days, Hours, Minutes, Seconds): Hours\n"
     ]
    },
    {
     "name": "stdout",
     "output_type": "stream",
     "text": [
      "You lived for 674520 Hours.\n"
     ]
    }
   ],
   "source": [
    "def calculate_duration(age, unit):\n",
    "    if unit in ['months', 'm']:\n",
    "       return age*12, \"Months\"\n",
    "    elif unit in [\"weeks\", \"w\"]:\n",
    "       return age*12, \"Weeks\"\n",
    "    elif unit in [\"days\", \"d\"]:\n",
    "       return age*365, \"Days\"\n",
    "    elif unit in [\"hours\", \"h\"]:\n",
    "       return age*365*24, \"Hours\"\n",
    "    elif unit in [\"minutes\", \"m\"]:\n",
    "       return age*365*24*60, \"Minutes\"\n",
    "    elif unit in [\"Seconds\", \"s\"]:\n",
    "       return age*365*24*60*60, \"Seconds\"\n",
    "    else: \n",
    "       return None, \"Incorrect Data Filled\"\n",
    "\n",
    "# Get user imput\n",
    "age = int(input(\"Write your age?(in years)\"))\n",
    "unit = input(\"Please choose a time unit (Months, Weeks, Days, Hours, Minutes, Seconds):\").lower()\n",
    "\n",
    "# Call the func to calculate the duration\n",
    "duration, unit_name = calculate_duration(age, unit)\n",
    "\n",
    "# Display the result\n",
    "if unit_name != \"Invalid time unit\":\n",
    "    print(f\"You lived for {duration} {unit_name}.\")\n",
    "else:\n",
    "    print (\"Please enter a valid unit.\")\n",
    "    \n"
   ]
  },
  {
   "cell_type": "code",
   "execution_count": null,
   "id": "da5d2cec-521e-4ea3-b980-f20ef6e0283c",
   "metadata": {},
   "outputs": [],
   "source": []
  }
 ],
 "metadata": {
  "kernelspec": {
   "display_name": "Python 3 (ipykernel)",
   "language": "python",
   "name": "python3"
  },
  "language_info": {
   "codemirror_mode": {
    "name": "ipython",
    "version": 3
   },
   "file_extension": ".py",
   "mimetype": "text/x-python",
   "name": "python",
   "nbconvert_exporter": "python",
   "pygments_lexer": "ipython3",
   "version": "3.11.7"
  }
 },
 "nbformat": 4,
 "nbformat_minor": 5
}
